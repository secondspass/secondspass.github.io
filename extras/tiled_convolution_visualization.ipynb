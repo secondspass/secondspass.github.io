{
 "cells": [
  {
   "cell_type": "code",
   "execution_count": 1,
   "id": "348c3cea-e7e6-459d-ab18-c76f13fa651f",
   "metadata": {},
   "outputs": [
    {
     "name": "stdout",
     "output_type": "stream",
     "text": [
      "Requirement already satisfied: drawsvg in ./vizenv/lib/python3.10/site-packages (2.3.0)\n"
     ]
    }
   ],
   "source": [
    "!pip install drawsvg"
   ]
  },
  {
   "cell_type": "code",
   "execution_count": 1,
   "id": "358e4d1d-de74-4e76-8c06-9b4dfa17e2d2",
   "metadata": {},
   "outputs": [],
   "source": [
    "import drawsvg as dw\n",
    "from math import floor, ceil\n",
    "import ipywidgets as widgets\n",
    "\n"
   ]
  },
  {
   "cell_type": "markdown",
   "id": "581d1d12-b082-44e3-86d2-81fafafa7368",
   "metadata": {},
   "source": [
    "# Instructions on how to run\n",
    "Set the dimensions of the filter, your input tile, and your input matrix in the below cell. Then run all the cells.\n",
    "Then go to cell 5 and cell 6 and you will be able to interact with the widgets.\n",
    "\n",
    "Input tile is a square 2D matrix. So size is same along both dimensions.\n",
    "The input matrix can be of different sizes along the two dimensions."
   ]
  },
  {
   "cell_type": "code",
   "execution_count": 2,
   "id": "a78bb60b-f057-4c7a-9f7d-58ce2d8c9680",
   "metadata": {},
   "outputs": [],
   "source": [
    "\n",
    "FILTER_RADIUS = 2\n",
    "INPUT_TILE_DIM = 8\n",
    "OUTPUT_TILE_DIM = INPUT_TILE_DIM - 2*FILTER_RADIUS\n",
    "MATRIX_WIDTH = 50\n",
    "MATRIX_HEIGHT = 50"
   ]
  },
  {
   "cell_type": "code",
   "execution_count": 3,
   "id": "9b4d0663-fc9b-445f-8c3a-afd8509eca9e",
   "metadata": {},
   "outputs": [],
   "source": [
    "\n",
    "def draw_block(width, height, blockid='matrix'):\n",
    "   \n",
    "    block =  dw.Group(id='bl{}'.format(blockid), fill='yellow', stroke='black')\n",
    "    rec = dw.Rectangle(0, 0, 10, 10, stroke=\"black\")\n",
    "    block_items = []\n",
    "    for j in range(height):\n",
    "        block_items.append([])\n",
    "        for i in range(width):\n",
    "            r = dw.Rectangle(10*i, 10*j, 10, 10, fill='white', id='bl{}rec{}'.format(blockid, j*width+i))\n",
    "            block_items[j].append(r)\n",
    "            block.append(r)\n",
    "    #d.append(dw.Use(rec, transform=\"translate(0, 10)\"))\n",
    "    #d.append(block)\n",
    "    return block, block_items\n",
    "\n",
    "def draw_grid(grid_width, grid_height, block_width, block_height):\n",
    "    grid = dw.Group(id='gr')\n",
    "    grid_items = []\n",
    "    for j in range(grid_height):\n",
    "        grid_items.append([])\n",
    "        for i in range(grid_width):\n",
    "            block, block_items = draw_block(block_width, block_height, blockid=j*grid_width+i)\n",
    "            g = dw.Use(block, 0, 0, transform=\"translate({}, {})\".format(10*block_width*i+10*i, 10*block_height*j+10*j))\n",
    "            grid_items[j].append(block_items)\n",
    "            grid.append(g)\n",
    "    return grid, grid_items\n",
    "\n",
    "\n",
    "\n",
    "\n",
    "d = dw.Drawing(2000, 2000)\n",
    "# draw input matrix with extra rows and columns (an INPUT_TILE_DIM worth of extra rows and columns\n",
    "# at the top, bottom, left, and right of the matrix) that would be the ghost cells. \n",
    "# we probably don't need to draw these many ghost rows and columns, but this way we get a really\n",
    "# big buffer that we don't have to worry about any overflows when rendering the output\n",
    "matrix, matrix_items = draw_block(MATRIX_WIDTH+2*INPUT_TILE_DIM, MATRIX_HEIGHT+2*INPUT_TILE_DIM)\n",
    "d.append(dw.Use(matrix, 0, 0))\n",
    "# coloring ghost cells with sky blue color to distinguish them from the actual data\n",
    "for j in range(MATRIX_HEIGHT+2*INPUT_TILE_DIM):\n",
    "    for i in range(MATRIX_WIDTH+2*INPUT_TILE_DIM):\n",
    "        if (i-INPUT_TILE_DIM) < 0 or (j - INPUT_TILE_DIM) < 0 or i >= (MATRIX_WIDTH+INPUT_TILE_DIM) or j >= (MATRIX_HEIGHT+INPUT_TILE_DIM):\n",
    "            matrix_items[j][i].args['fill'] = '#b2ffff'\n",
    "\n",
    "# draw cuda blocks\n",
    "grid_width = ceil(MATRIX_WIDTH/OUTPUT_TILE_DIM)\n",
    "grid_height = ceil(MATRIX_WIDTH/OUTPUT_TILE_DIM)\n",
    "block_width = INPUT_TILE_DIM\n",
    "block_height = INPUT_TILE_DIM\n",
    "grid, grid_items = draw_grid(grid_width, grid_height, block_width, block_height)\n",
    "d.append(dw.Use(grid, 0, (MATRIX_HEIGHT+2*INPUT_TILE_DIM)*10+10))\n",
    "\n",
    "\n"
   ]
  },
  {
   "cell_type": "code",
   "execution_count": 4,
   "id": "47e87db9-8d1b-4054-8280-190f0b1f7220",
   "metadata": {},
   "outputs": [],
   "source": [
    "\n",
    "\n",
    "def reset_grid_colors(grid_items):\n",
    "    for j in range(grid_height):\n",
    "        for i in range(grid_width):\n",
    "            reset_block_colors(grid_items[j][i])\n",
    "\n",
    "def reset_block_colors(block_items):\n",
    "    for j in range(block_height):\n",
    "        for i in range(block_width):\n",
    "            block_items[j][i].args['fill'] = 'white'\n",
    "\n",
    "def reset_matrix_colors(matrix_items):\n",
    "    for j in range(MATRIX_HEIGHT+2*INPUT_TILE_DIM):\n",
    "        for i in range(MATRIX_WIDTH+2*INPUT_TILE_DIM):\n",
    "            if (i-INPUT_TILE_DIM) < 0 or (j - INPUT_TILE_DIM) < 0 or i >= (MATRIX_WIDTH+INPUT_TILE_DIM) or j >= (MATRIX_HEIGHT+INPUT_TILE_DIM):\n",
    "                matrix_items[j][i].args['fill'] = '#b2ffff'\n",
    "            else:\n",
    "                matrix_items[j][i].args['fill'] = 'white'\n",
    "\n"
   ]
  },
  {
   "cell_type": "markdown",
   "id": "071ac999-298a-4c88-a721-7f73a263eacc",
   "metadata": {},
   "source": [
    "In the below widget, you will see a representation of your input matrix (with blue ghost cells) and then the grid of thread blocks that is created. Each thread block will load one input tile. g_row and g_col represent the row and column of the thread block in the grid of thread blocks. The selected block is highlighted in yellow. And in the input matrix you will see the elements highlighted in yellow, which represent the input tile loaded by that block."
   ]
  },
  {
   "cell_type": "code",
   "execution_count": 5,
   "id": "efa14d40-a741-4068-a0ab-a386f694d19c",
   "metadata": {},
   "outputs": [
    {
     "data": {
      "application/vnd.jupyter.widget-view+json": {
       "model_id": "2c082a06a4ea4fe8bb766bfe4b21dea2",
       "version_major": 2,
       "version_minor": 0
      },
      "text/plain": [
       "interactive(children=(BoundedIntText(value=0, description='g_row', max=12), BoundedIntText(value=0, descriptio…"
      ]
     },
     "metadata": {},
     "output_type": "display_data"
    }
   ],
   "source": [
    "@widgets.interact\n",
    "def show_input_tile(g_row=widgets.BoundedIntText(min=0,max=grid_height-1), g_col=widgets.BoundedIntText(min=0, max=grid_width-1)):\n",
    "    \"\"\"\n",
    "    highlight input tile selection and \n",
    "    highlight cuda block that fills the input tile\n",
    "    \"\"\"\n",
    "    reset_grid_colors(grid_items)\n",
    "    reset_matrix_colors(matrix_items)\n",
    "    block = grid_items[g_row][g_col]\n",
    "\n",
    "    for b_row in range(block_height):\n",
    "        for b_col in range(block_width):\n",
    "            # m_row and m_col identify the coordinates of the element in the matrix\n",
    "            # that is loaded into the input tile by the thread at (b_col,b_row) in the \n",
    "            # selected block. \n",
    "            # The g_col*OUTPUT_TILE_DIM, g_row*OUTPUT_TILE_DIM gives the starting point of the \n",
    "            # output tile that is calculated by the block. \n",
    "            # b_col-FILTER_RADIUS,b_row-FILTER_RADIUS gives the offset from the starting\n",
    "            # point at which the thread b_col,b_row loads the element into the input tile\n",
    "            # the +INPUT_TILE_DIM is because we have to offset against all the extra ghost\n",
    "            # cells in the visuals. \n",
    "            m_row = (g_row*OUTPUT_TILE_DIM)+b_row-FILTER_RADIUS + INPUT_TILE_DIM\n",
    "            m_col = (g_col*OUTPUT_TILE_DIM)+b_col-FILTER_RADIUS + INPUT_TILE_DIM\n",
    "            matrix_items[m_row][m_col].args['fill'] = 'yellow'\n",
    "            block[b_row][b_col].args['fill'] = 'yellow'\n",
    "\n",
    "    return d\n",
    "        \n",
    "        "
   ]
  },
  {
   "cell_type": "markdown",
   "id": "ab140e8a-11e3-4711-91c2-ab0db0efa51c",
   "metadata": {},
   "source": [
    "The below widget is similar to the above widget, with the addition of the red highlights. The red highlights in the input matrix represent those elements in the input tile for which the output is calculated. You can see the surrounding yellow elements of the input tile would not have enough input elements around them to calculate their output. In the grid of blocks, the red highlights represent those threads that calculate an output element. The other yellow threads in the block are disabled after they load their respective input elements into the input tile.\n",
    "\n",
    "If you step through the different blocks along the rows and columns, you will see that each input neighboring input tile overlap each other by FILTER_RADIUS amount, but the output elements don't overlap. Stepping through all of them, you can see that output elements for all elements of the entire input matrix are calculated. You can also see that for some blocks, the input tile goes outside the input matrix into the ghost cells (the blue cells) which have a default value since they are not actually in the input data."
   ]
  },
  {
   "cell_type": "code",
   "execution_count": 6,
   "id": "921b8a2f-b48f-4c81-a0f1-b9931233473d",
   "metadata": {},
   "outputs": [
    {
     "data": {
      "application/vnd.jupyter.widget-view+json": {
       "model_id": "4bbd26e51db74297967424d6cdcd901b",
       "version_major": 2,
       "version_minor": 0
      },
      "text/plain": [
       "interactive(children=(BoundedIntText(value=0, description='g_row', max=12), BoundedIntText(value=0, descriptio…"
      ]
     },
     "metadata": {},
     "output_type": "display_data"
    }
   ],
   "source": [
    "@widgets.interact\n",
    "def show_output_tile(g_row=widgets.BoundedIntText(min=0,max=grid_height-1), g_col=widgets.BoundedIntText(min=0, max=grid_width-1)):\n",
    "    \"\"\"\n",
    "    highlight output tile that is calculated from the input tile and \n",
    "    highlight the subset of the cuda block that calculates the output tile elements\n",
    "    \"\"\"\n",
    "    reset_grid_colors(grid_items)\n",
    "    reset_matrix_colors(matrix_items)\n",
    "    block = grid_items[g_row][g_col]\n",
    "\n",
    "    for b_row in range(block_height):\n",
    "        for b_col in range(block_width):\n",
    "\n",
    "            m_row = (g_row*OUTPUT_TILE_DIM)+b_row-FILTER_RADIUS + INPUT_TILE_DIM\n",
    "            m_col = (g_col*OUTPUT_TILE_DIM)+b_col-FILTER_RADIUS + INPUT_TILE_DIM\n",
    "            out_row = b_row - FILTER_RADIUS\n",
    "            out_col = b_col - FILTER_RADIUS\n",
    "            # checking that out_col,out_row has a value from 0 to OUTPUT_TILE_DIM-1 \n",
    "            # helps 'turn off' the threads that shouldn't calculate an output element in the\n",
    "            # output tile (because its corresponding element in the input tile doesn't have enough\n",
    "            # surrouding elements to be multiplied with the filter).\n",
    "            if out_row >= 0 and out_row < OUTPUT_TILE_DIM and out_col >= 0 and out_col < OUTPUT_TILE_DIM:\n",
    "                matrix_items[m_row][m_col].args['fill'] = 'red'\n",
    "                block[b_row][b_col].args['fill'] = 'red'\n",
    "            else:\n",
    "                matrix_items[m_row][m_col].args['fill'] = 'yellow'\n",
    "                block[b_row][b_col].args['fill'] = 'yellow'\n",
    "            \n",
    "\n",
    "    return d"
   ]
  },
  {
   "cell_type": "code",
   "execution_count": null,
   "id": "7886f39d-3188-43f5-8ead-0aa8e374b272",
   "metadata": {},
   "outputs": [],
   "source": []
  },
  {
   "cell_type": "code",
   "execution_count": null,
   "id": "98aa5dbf-4685-433b-a194-524b50505e60",
   "metadata": {},
   "outputs": [],
   "source": []
  }
 ],
 "metadata": {
  "kernelspec": {
   "display_name": "Python 3 (ipykernel)",
   "language": "python",
   "name": "python3"
  },
  "language_info": {
   "codemirror_mode": {
    "name": "ipython",
    "version": 3
   },
   "file_extension": ".py",
   "mimetype": "text/x-python",
   "name": "python",
   "nbconvert_exporter": "python",
   "pygments_lexer": "ipython3",
   "version": "3.10.12"
  }
 },
 "nbformat": 4,
 "nbformat_minor": 5
}
